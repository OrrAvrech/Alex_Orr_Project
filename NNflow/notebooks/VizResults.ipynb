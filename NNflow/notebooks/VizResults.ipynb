{
 "cells": [
  {
   "cell_type": "markdown",
   "metadata": {},
   "source": [
    "### Show Net Input (Shuffled)\n",
    "Our network receives a video of blinking emitters as input. Each video contains a pre-determined number of frames and the number of emitters we observe is bounded by another pre-determined parameter - maxSources."
   ]
  },
  {
   "cell_type": "code",
   "execution_count": 2,
   "metadata": {
    "scrolled": false
   },
   "outputs": [
    {
     "data": {
      "text/plain": [
       "<Figure size 640x480 with 1 Axes>"
      ]
     },
     "metadata": {},
     "output_type": "display_data"
    }
   ],
   "source": [
    "import matplotlib.pyplot as plt\n",
    "import matplotlib.animation as animation\n",
    "import numpy as np\n",
    "import h5py\n",
    "import os\n",
    "\n",
    "path = os.path.join('..', '..', 'DataSimulation', 'Dataset_im64_f8_s2')\n",
    "numSamples = 5000\n",
    "data_file = os.path.join(path, str(np.random.randint(numSamples)) + '.mat')\n",
    "with h5py.File(data_file, 'r') as f:\n",
    "    sample_x = np.array(f.get('features'))\n",
    "    sample_y = np.array(f.get('labels'))\n",
    "sample_x = np.transpose(sample_x, (1, 2, 0))\n",
    "sample_y = np.transpose(sample_y, (1, 2, 0))\n",
    "\n",
    "numFrames = sample_x.shape[2]\n",
    "\n",
    "fig = plt.figure()\n",
    "im = plt.imshow(sample_x[:,:,0], animated=True)\n",
    "\n",
    "def update(i):\n",
    "    img = sample_x[:,:,i]\n",
    "    im.set_data(img)\n",
    "    \n",
    "ani = animation.FuncAnimation(fig, update, frames=numFrames, repeat=True)  \n",
    "plt.show()   "
   ]
  },
  {
   "cell_type": "markdown",
   "metadata": {},
   "source": [
    "### Validation Results \n",
    "After training the model, we first show the estimated (predicted by our model) sources versus the ground truth. The input is the video showed above and it is randomly selected from the validation set."
   ]
  },
  {
   "cell_type": "code",
   "execution_count": 38,
   "metadata": {},
   "outputs": [],
   "source": [
    "import tensorflow as tf\n",
    "\n",
    "def evalPredictions(input_tensor):\n",
    "    tf.reset_default_graph()  \n",
    "    imported_graph = tf.train.import_meta_graph(os.path.join('..', 'checkpoints', 'ckpt_im64_f8_s2',\n",
    "                                                             'im64_f8_s2_2018-05-11_1356.meta'))\n",
    "    graph = tf.get_default_graph()\n",
    "    x = graph.get_tensor_by_name('x:0')\n",
    "    keep_prob = graph.get_tensor_by_name('dropout/Placeholder:0')\n",
    "    y_conv = graph.get_tensor_by_name('reshape_y/Reshape:0')\n",
    "    with tf.Session() as sess:\n",
    "        imported_graph.restore(sess, tf.train.latest_checkpoint(os.path.join('..', 'checkpoints', 'ckpt_im64_f8_s2')))\n",
    "        feed_dict = {x: input_tensor, keep_prob: 0}\n",
    "        y_pred = sess.run(y_conv, feed_dict = feed_dict)\n",
    "    return y_pred\n",
    "\n",
    "def removeNons(y_pred, y_labels):\n",
    "    maxSources = y_labels.shape[-1]\n",
    "    idxs = []\n",
    "    for i in range(maxSources):\n",
    "        if (y_labels == np.zeros(y_labels.shape)).all():\n",
    "            continue\n",
    "        idxs = np.append(idxs, i).astype(int)\n",
    "    y_tot = np.append(y_labels[:,:,idxs], y_pred[:,:,idxs], axis=2)\n",
    "    return y_tot\n",
    "    \n",
    "def showPredictions(y_pred, y_labels):\n",
    "        y_preds = y_pred[0,:,:,:]\n",
    "        y_tot = removeNons(y_preds, y_labels)\n",
    "        numSources = y_labels.shape[-1]\n",
    "        fig, axes = plt.subplots(2, numSources)\n",
    "        for i, ax in enumerate(axes.flat):\n",
    "            ax.imshow(y_tot[:,:,i], aspect='auto')\n",
    "            ax.set_xticks([])\n",
    "            ax.set_yticks([])\n",
    "        plt.show()"
   ]
  },
  {
   "cell_type": "code",
   "execution_count": 39,
   "metadata": {},
   "outputs": [
    {
     "name": "stdout",
     "output_type": "stream",
     "text": [
      "INFO:tensorflow:Restoring parameters from C:\\Users\\orrav\\Documents\\Technion\\Alex_Orr_Project\\NNflow\\checkpoints\\ckpt_im64_f8_s2\\im64_f8_s2_2018-05-11_1356\n"
     ]
    },
    {
     "data": {
      "image/png": "[encoded data removed]",
      "text/plain": [
       "<Figure size 432x288 with 4 Axes>"
      ]
     },
     "metadata": {},
     "output_type": "display_data"
    }
   ],
   "source": [
    "input_tensor = np.expand_dims(sample_x, axis=0)\n",
    "y_pred = evalPredictions(input_tensor)\n",
    "showPredictions(y_pred, sample_y)"
   ]
  }
 ],
 "metadata": {
  "kernelspec": {
   "display_name": "Python 3",
   "language": "python",
   "name": "python3"
  },
  "language_info": {
   "codemirror_mode": {
    "name": "ipython",
    "version": 3
   },
   "file_extension": ".py",
   "mimetype": "text/x-python",
   "name": "python",
   "nbconvert_exporter": "python",
   "pygments_lexer": "ipython3",
   "version": "3.5.5"
  }
 },
 "nbformat": 4,
 "nbformat_minor": 2
}
