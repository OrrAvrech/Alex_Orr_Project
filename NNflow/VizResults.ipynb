{
 "cells": [
  {
   "cell_type": "markdown",
   "metadata": {},
   "source": [
    "### Show Input Sample\n",
    "Our network receives a video of blinking emitters as input. Each video contains a pre-determined number of frames and the number of emitters we observe is bounded by another pre-determined parameter - maxSources."
   ]
  },
  {
   "cell_type": "code",
   "execution_count": 8,
   "metadata": {
    "scrolled": false
   },
   "outputs": [],
   "source": [
    "# Setup\n",
    "import matplotlib.pyplot as plt\n",
    "import matplotlib.animation as animation\n",
    "from IPython.display import HTML\n",
    "import numpy as np\n",
    "import h5py\n",
    "import os\n",
    "import pickle\n",
    "\n",
    "import dataset_NEWtf\n",
    "\n",
    "def loadDataObj(path, set_str):\n",
    "    with open(os.path.join(path, set_str + '.obj'), 'rb') as dataFile:\n",
    "        dataObj = pickle.load(dataFile)\n",
    "    return dataObj\n",
    "\n",
    "def pickSample(dataObj):\n",
    "    numSamples = dataObj.labels.shape[0]\n",
    "    randIDx = np.random.randint(numSamples)\n",
    "    featureSample = dataObj.features[randIDx,:,:,:]\n",
    "    labelSample = dataObj.labels[randIDx,:,:,:]\n",
    "    return featureSample, labelSample\n",
    "\n",
    "def showSample(input_sample):\n",
    "    numFrames = input_sample.shape[-1]\n",
    "    fig = plt.figure()\n",
    "    im = plt.imshow(sample_x[:,:,0])\n",
    "\n",
    "    def update(i):\n",
    "        img = sample_x[:,:,i]\n",
    "        im.set_data(img)\n",
    "        \n",
    "    ani = animation.FuncAnimation(fig, update, frames=numFrames, repeat=True)  \n",
    "    display(HTML(ani.to_html5_video()))\n",
    "    \n",
    "    \n",
    "def plot_frame_list(sample, pause_time):\n",
    "    print(sample.shape)\n",
    "    numFrames = sample.shape[-1]\n",
    "    plt.figure()\n",
    "    for f in range(numFrames):\n",
    "        plt.clf()\n",
    "        plt.imshow(sample[:,:,f])\n",
    "        plt.pause(pause_time)"
   ]
  },
  {
   "cell_type": "code",
   "execution_count": 12,
   "metadata": {},
   "outputs": [
    {
     "name": "stdout",
     "output_type": "stream",
     "text": [
      "(1000, 64, 64, 8)\n"
     ]
    }
   ],
   "source": [
    "path = os.path.join('..', 'DataSimulation', 'Dataset_im64_f8_s2')\n",
    "testObj = loadDataObj(path, 'test')\n",
    "print(np.shape(testObj.features))\n",
    "sample_x, sample_y = pickSample(testObj)\n",
    "# plot_frame_list(sample_x, 0.2)\n",
    "# showSample(sample_x)"
   ]
  },
  {
   "cell_type": "markdown",
   "metadata": {},
   "source": [
    "### Validation Sample Output \n",
    "After training the model with 80% of the entire training set (holding out the rest for validation), we first show the estimated sources versus the ground truth. The input is the video showed above and it is randomly selected from the validation set.  "
   ]
  },
  {
   "cell_type": "code",
   "execution_count": 38,
   "metadata": {},
   "outputs": [],
   "source": [
    "import tensorflow as tf\n",
    "\n",
    "def evalPredictions(input_tensor):\n",
    "    \"\"\"Evaluates the predicted output of the model. \n",
    "       First, imports the graph and then restores the model variables from the latest checkpoint.\n",
    "    Args:\n",
    "        input_tensor: Tensor of shape [batchSize, imgSize, imgSize, numFrames]  \n",
    "    \"\"\"\n",
    "    tf.reset_default_graph()  \n",
    "    # First- import the saved graph\n",
    "    imported_graph = tf.train.import_meta_graph(os.path.join('..', 'checkpoints', 'ckpt_im64_f8_s2',\n",
    "                                                             'im64_f8_s2_2018-05-11_1356.meta'))\n",
    "    graph = tf.get_default_graph()\n",
    "    x = graph.get_tensor_by_name('x:0')\n",
    "    keep_prob = graph.get_tensor_by_name('dropout/Placeholder:0') #TODO: change to friendly variable names\n",
    "    y_conv = graph.get_tensor_by_name('reshape_y/Reshape:0')\n",
    "    with tf.Session() as sess:\n",
    "        # Second- import the model variables\n",
    "        imported_graph.restore(sess, tf.train.latest_checkpoint(os.path.join('..', 'checkpoints', 'ckpt_im64_f8_s2')))\n",
    "        feed_dict = {x: input_tensor, keep_prob: 0}\n",
    "        y_pred = sess.run(y_conv, feed_dict = feed_dict)\n",
    "    return y_pred\n",
    "\n",
    "def removeNons(y_pred, y_labels):\n",
    "    \"\"\"Removes the zero labels and corresponding predictions.\n",
    "    Args:\n",
    "        y_pred  : network output \n",
    "        y_labels: labels matrix\n",
    "    \"\"\"\n",
    "    maxSources = y_labels.shape[-1]\n",
    "    idxs = []\n",
    "    for i in range(maxSources):\n",
    "        if (y_labels[:,:,i] == np.zeros(y_labels[:,:,i].shape)).all():\n",
    "            continue\n",
    "        idxs = np.append(idxs, i).astype(int)\n",
    "    y_tot = np.append(y_labels[:,:,idxs], y_pred[:,:,idxs], axis=2)\n",
    "    return y_tot\n",
    "    \n",
    "def showPredictions(y_pred, y_labels):\n",
    "        y_preds = y_pred[0,:,:,:]\n",
    "        y_tot = removeNons(y_preds, y_labels)\n",
    "        numSources = y_labels.shape[-1]\n",
    "        fig, axes = plt.subplots(2, numSources)\n",
    "        for i, ax in enumerate(axes.flat):\n",
    "            ax.imshow(y_tot[:,:,i], aspect='auto')\n",
    "            ax.set_xticks([])\n",
    "            ax.set_yticks([])\n",
    "        plt.show()"
   ]
  },
  {
   "cell_type": "code",
   "execution_count": 39,
   "metadata": {},
   "outputs": [
    {
     "name": "stdout",
     "output_type": "stream",
     "text": [
      "INFO:tensorflow:Restoring parameters from C:\\Users\\orrav\\Documents\\Technion\\Alex_Orr_Project\\NNflow\\checkpoints\\ckpt_im64_f8_s2\\im64_f8_s2_2018-05-11_1356\n"
     ]
    },
    {
     "data": {
      "image/png": "[encoded data removed]",
      "text/plain": [
       "<Figure size 432x288 with 4 Axes>"
      ]
     },
     "metadata": {},
     "output_type": "display_data"
    }
   ],
   "source": [
    "input_tensor = np.expand_dims(sample_x, axis=0)\n",
    "# Predict model output for input_tensor as input\n",
    "y_pred = evalPredictions(input_tensor)\n",
    "# Show GroundTruth Vs. Estimated\n",
    "showPredictions(y_pred, sample_y)"
   ]
  },
  {
   "cell_type": "markdown",
   "metadata": {},
   "source": [
    "### Test Sample Output"
   ]
  },
  {
   "cell_type": "code",
   "execution_count": 37,
   "metadata": {},
   "outputs": [
    {
     "name": "stdout",
     "output_type": "stream",
     "text": [
      "0.99999994\n",
      "1000/1000 [==============================] - 16s 16ms/step\n"
     ]
    }
   ],
   "source": [
    "from tensorflow.python.keras.models import load_model\n",
    "from tensorflow.python.keras import backend as K\n",
    "from Models_keras import NCC\n",
    "import tensorflow as tf\n",
    "\n",
    "path_best_model = 'best_model.keras'\n",
    "\n",
    "yl = testObj.labels[0,:,:,:]\n",
    "ylt = tf.convert_to_tensor(yl, dtype=tf.float32)\n",
    "out = K.eval(NCC(K.variable(ylt),K.variable(ylt)))\n",
    "print(out)\n",
    "model = load_model(path_best_model, custom_objects={'NCC': NCC})\n",
    "\n",
    "result = model.evaluate(x=testObj.features,\n",
    "                        y=testObj.labels)\n"
   ]
  },
  {
   "cell_type": "code",
   "execution_count": 42,
   "metadata": {},
   "outputs": [
    {
     "data": {
      "image/png": "[encoded data removed]",
      "text/plain": [
       "<Figure size 432x288 with 4 Axes>"
      ]
     },
     "metadata": {},
     "output_type": "display_data"
    }
   ],
   "source": [
    "import numpy as np\n",
    "\n",
    "def removeNons(y_pred, y_labels):\n",
    "    \"\"\"Removes the zero labels and corresponding predictions.\n",
    "    Args:\n",
    "        y_pred  : network output \n",
    "        y_labels: labels matrix\n",
    "    \"\"\"\n",
    "    maxSources = y_labels.shape[-1]\n",
    "    idxs = []\n",
    "    for i in range(maxSources):\n",
    "        if (y_labels[:,:,i] == np.zeros(y_labels[:,:,i].shape)).all():\n",
    "            continue\n",
    "        idxs = np.append(idxs, i).astype(int)\n",
    "    y_tot = np.append(y_labels[:,:,idxs], y_pred[:,:,idxs], axis=2)\n",
    "    return y_tot\n",
    "    \n",
    "def showPredictions(y_pred, y_labels):\n",
    "        # Truncate dimensions to image\n",
    "        y_preds = y_pred[0,:,:,:]\n",
    "        y_tot = removeNons(y_preds, y_labels)\n",
    "        numSources = y_labels.shape[-1]\n",
    "        fig, axes = plt.subplots(2, numSources)\n",
    "        for i, ax in enumerate(axes.flat):\n",
    "            ax.imshow(y_tot[:,:,i], aspect='auto')\n",
    "            ax.set_xticks([])\n",
    "            ax.set_yticks([])\n",
    "        plt.show()\n",
    "\n",
    "sample_xe = np.expand_dims(sample_x, axis=0)\n",
    "y_pred = model.predict(x = sample_xe)\n",
    "showPredictions(y_pred, sample_y)"
   ]
  }
 ],
 "metadata": {
  "kernelspec": {
   "display_name": "Python 3",
   "language": "python",
   "name": "python3"
  },
  "language_info": {
   "codemirror_mode": {
    "name": "ipython",
    "version": 3
   },
   "file_extension": ".py",
   "mimetype": "text/x-python",
   "name": "python",
   "nbconvert_exporter": "python",
   "pygments_lexer": "ipython3",
   "version": "3.5.5"
  }
 },
 "nbformat": 4,
 "nbformat_minor": 2
}
